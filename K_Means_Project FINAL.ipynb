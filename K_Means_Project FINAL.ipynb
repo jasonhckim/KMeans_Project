{
 "cells": [
  {
   "cell_type": "code",
   "execution_count": 4,
   "metadata": {
    "id": "rszQSlmI74xw"
   },
   "outputs": [],
   "source": [
    "import pandas as pd\n",
    "import numpy as np\n",
    "import seaborn as sns\n",
    "import matplotlib.pyplot as plt\n",
    "%matplotlib inline"
   ]
  },
  {
   "cell_type": "code",
   "execution_count": 5,
   "metadata": {
    "id": "X8IYGYrV8BP6"
   },
   "outputs": [],
   "source": [
    "# load the data\n",
    "df = pd.read_csv('employee-compensation.csv')"
   ]
  },
  {
   "cell_type": "code",
   "execution_count": 6,
   "metadata": {
    "colab": {
     "base_uri": "https://localhost:8080/",
     "height": 565
    },
    "id": "W_t1AaoU8BNB",
    "outputId": "bc8c0505-4500-412b-f5c5-ba1ed0b28fa2"
   },
   "outputs": [
    {
     "data": {
      "text/html": [
       "<div>\n",
       "<style scoped>\n",
       "    .dataframe tbody tr th:only-of-type {\n",
       "        vertical-align: middle;\n",
       "    }\n",
       "\n",
       "    .dataframe tbody tr th {\n",
       "        vertical-align: top;\n",
       "    }\n",
       "\n",
       "    .dataframe thead th {\n",
       "        text-align: right;\n",
       "    }\n",
       "</style>\n",
       "<table border=\"1\" class=\"dataframe\">\n",
       "  <thead>\n",
       "    <tr style=\"text-align: right;\">\n",
       "      <th></th>\n",
       "      <th>Organization Group Code</th>\n",
       "      <th>Job Family Code</th>\n",
       "      <th>Job Code</th>\n",
       "      <th>Year Type</th>\n",
       "      <th>Year</th>\n",
       "      <th>Organization Group</th>\n",
       "      <th>Department Code</th>\n",
       "      <th>Department</th>\n",
       "      <th>Union Code</th>\n",
       "      <th>Union</th>\n",
       "      <th>...</th>\n",
       "      <th>Employee Identifier</th>\n",
       "      <th>Salaries</th>\n",
       "      <th>Overtime</th>\n",
       "      <th>Other Salaries</th>\n",
       "      <th>Total Salary</th>\n",
       "      <th>Retirement</th>\n",
       "      <th>Health and Dental</th>\n",
       "      <th>Other Benefits</th>\n",
       "      <th>Total Benefits</th>\n",
       "      <th>Total Compensation</th>\n",
       "    </tr>\n",
       "  </thead>\n",
       "  <tbody>\n",
       "    <tr>\n",
       "      <th>0</th>\n",
       "      <td>1</td>\n",
       "      <td>1000</td>\n",
       "      <td>1021</td>\n",
       "      <td>Calendar</td>\n",
       "      <td>2013</td>\n",
       "      <td>Public Protection</td>\n",
       "      <td>ADP</td>\n",
       "      <td>ADP Adult Probation</td>\n",
       "      <td>21.0</td>\n",
       "      <td>Prof &amp; Tech Engineers - Miscellaneous, Local 21</td>\n",
       "      <td>...</td>\n",
       "      <td>37730</td>\n",
       "      <td>57534.65</td>\n",
       "      <td>0.0</td>\n",
       "      <td>0.00</td>\n",
       "      <td>57534.65</td>\n",
       "      <td>11253.16</td>\n",
       "      <td>11961.34</td>\n",
       "      <td>4532.63</td>\n",
       "      <td>27747.13</td>\n",
       "      <td>85281.78</td>\n",
       "    </tr>\n",
       "    <tr>\n",
       "      <th>1</th>\n",
       "      <td>1</td>\n",
       "      <td>1000</td>\n",
       "      <td>1023</td>\n",
       "      <td>Calendar</td>\n",
       "      <td>2013</td>\n",
       "      <td>Public Protection</td>\n",
       "      <td>ADP</td>\n",
       "      <td>ADP Adult Probation</td>\n",
       "      <td>21.0</td>\n",
       "      <td>Prof &amp; Tech Engineers - Miscellaneous, Local 21</td>\n",
       "      <td>...</td>\n",
       "      <td>26574</td>\n",
       "      <td>57678.50</td>\n",
       "      <td>0.0</td>\n",
       "      <td>0.00</td>\n",
       "      <td>57678.50</td>\n",
       "      <td>10284.88</td>\n",
       "      <td>7176.80</td>\n",
       "      <td>4755.14</td>\n",
       "      <td>22216.82</td>\n",
       "      <td>79895.32</td>\n",
       "    </tr>\n",
       "    <tr>\n",
       "      <th>2</th>\n",
       "      <td>1</td>\n",
       "      <td>1000</td>\n",
       "      <td>1031</td>\n",
       "      <td>Calendar</td>\n",
       "      <td>2013</td>\n",
       "      <td>Public Protection</td>\n",
       "      <td>ADP</td>\n",
       "      <td>ADP Adult Probation</td>\n",
       "      <td>21.0</td>\n",
       "      <td>Prof &amp; Tech Engineers - Miscellaneous, Local 21</td>\n",
       "      <td>...</td>\n",
       "      <td>8148</td>\n",
       "      <td>63532.93</td>\n",
       "      <td>0.0</td>\n",
       "      <td>0.00</td>\n",
       "      <td>63532.93</td>\n",
       "      <td>12495.83</td>\n",
       "      <td>12918.24</td>\n",
       "      <td>4702.71</td>\n",
       "      <td>30116.78</td>\n",
       "      <td>93649.71</td>\n",
       "    </tr>\n",
       "    <tr>\n",
       "      <th>3</th>\n",
       "      <td>1</td>\n",
       "      <td>1000</td>\n",
       "      <td>1054</td>\n",
       "      <td>Calendar</td>\n",
       "      <td>2013</td>\n",
       "      <td>Public Protection</td>\n",
       "      <td>ADP</td>\n",
       "      <td>ADP Adult Probation</td>\n",
       "      <td>21.0</td>\n",
       "      <td>Prof &amp; Tech Engineers - Miscellaneous, Local 21</td>\n",
       "      <td>...</td>\n",
       "      <td>27436</td>\n",
       "      <td>101274.51</td>\n",
       "      <td>0.0</td>\n",
       "      <td>-7058.59</td>\n",
       "      <td>94215.92</td>\n",
       "      <td>19644.45</td>\n",
       "      <td>12918.24</td>\n",
       "      <td>7458.76</td>\n",
       "      <td>40021.45</td>\n",
       "      <td>134237.37</td>\n",
       "    </tr>\n",
       "    <tr>\n",
       "      <th>4</th>\n",
       "      <td>1</td>\n",
       "      <td>1000</td>\n",
       "      <td>1062</td>\n",
       "      <td>Calendar</td>\n",
       "      <td>2013</td>\n",
       "      <td>Public Protection</td>\n",
       "      <td>ADP</td>\n",
       "      <td>ADP Adult Probation</td>\n",
       "      <td>21.0</td>\n",
       "      <td>Prof &amp; Tech Engineers - Miscellaneous, Local 21</td>\n",
       "      <td>...</td>\n",
       "      <td>37730</td>\n",
       "      <td>5084.00</td>\n",
       "      <td>0.0</td>\n",
       "      <td>0.00</td>\n",
       "      <td>5084.00</td>\n",
       "      <td>1083.90</td>\n",
       "      <td>956.91</td>\n",
       "      <td>387.50</td>\n",
       "      <td>2428.31</td>\n",
       "      <td>7512.31</td>\n",
       "    </tr>\n",
       "  </tbody>\n",
       "</table>\n",
       "<p>5 rows × 22 columns</p>\n",
       "</div>"
      ],
      "text/plain": [
       "   Organization Group Code Job Family Code Job Code Year Type  Year  \\\n",
       "0                        1            1000     1021  Calendar  2013   \n",
       "1                        1            1000     1023  Calendar  2013   \n",
       "2                        1            1000     1031  Calendar  2013   \n",
       "3                        1            1000     1054  Calendar  2013   \n",
       "4                        1            1000     1062  Calendar  2013   \n",
       "\n",
       "  Organization Group Department Code           Department  Union Code  \\\n",
       "0  Public Protection             ADP  ADP Adult Probation        21.0   \n",
       "1  Public Protection             ADP  ADP Adult Probation        21.0   \n",
       "2  Public Protection             ADP  ADP Adult Probation        21.0   \n",
       "3  Public Protection             ADP  ADP Adult Probation        21.0   \n",
       "4  Public Protection             ADP  ADP Adult Probation        21.0   \n",
       "\n",
       "                                             Union  ... Employee Identifier  \\\n",
       "0  Prof & Tech Engineers - Miscellaneous, Local 21  ...               37730   \n",
       "1  Prof & Tech Engineers - Miscellaneous, Local 21  ...               26574   \n",
       "2  Prof & Tech Engineers - Miscellaneous, Local 21  ...                8148   \n",
       "3  Prof & Tech Engineers - Miscellaneous, Local 21  ...               27436   \n",
       "4  Prof & Tech Engineers - Miscellaneous, Local 21  ...               37730   \n",
       "\n",
       "    Salaries  Overtime  Other Salaries  Total Salary  Retirement  \\\n",
       "0   57534.65       0.0            0.00      57534.65    11253.16   \n",
       "1   57678.50       0.0            0.00      57678.50    10284.88   \n",
       "2   63532.93       0.0            0.00      63532.93    12495.83   \n",
       "3  101274.51       0.0        -7058.59      94215.92    19644.45   \n",
       "4    5084.00       0.0            0.00       5084.00     1083.90   \n",
       "\n",
       "   Health and Dental  Other Benefits  Total Benefits  Total Compensation  \n",
       "0           11961.34         4532.63        27747.13            85281.78  \n",
       "1            7176.80         4755.14        22216.82            79895.32  \n",
       "2           12918.24         4702.71        30116.78            93649.71  \n",
       "3           12918.24         7458.76        40021.45           134237.37  \n",
       "4             956.91          387.50         2428.31             7512.31  \n",
       "\n",
       "[5 rows x 22 columns]"
      ]
     },
     "execution_count": 6,
     "metadata": {},
     "output_type": "execute_result"
    }
   ],
   "source": [
    "df.head()"
   ]
  },
  {
   "cell_type": "code",
   "execution_count": 7,
   "metadata": {
    "colab": {
     "base_uri": "https://localhost:8080/"
    },
    "id": "Iu7hJryS8BI3",
    "outputId": "96a99af6-5af1-4be6-ebc9-4c643b20bbdd"
   },
   "outputs": [
    {
     "data": {
      "text/plain": [
       "(683277, 22)"
      ]
     },
     "execution_count": 7,
     "metadata": {},
     "output_type": "execute_result"
    }
   ],
   "source": [
    "# no of row and shape of data\n",
    "df.shape"
   ]
  },
  {
   "cell_type": "code",
   "execution_count": 8,
   "metadata": {
    "colab": {
     "base_uri": "https://localhost:8080/"
    },
    "id": "yxVgfck18BDR",
    "outputId": "9cd87899-c0ec-48b9-a5fe-23a1067f1d79"
   },
   "outputs": [
    {
     "data": {
      "text/plain": [
       "Organization Group Code      0\n",
       "Job Family Code              0\n",
       "Job Code                     0\n",
       "Year Type                    0\n",
       "Year                         0\n",
       "Organization Group           0\n",
       "Department Code              2\n",
       "Department                   2\n",
       "Union Code                 351\n",
       "Union                      351\n",
       "Job Family                   0\n",
       "Job                          5\n",
       "Employee Identifier          0\n",
       "Salaries                     0\n",
       "Overtime                     0\n",
       "Other Salaries               0\n",
       "Total Salary                 0\n",
       "Retirement                   0\n",
       "Health and Dental            0\n",
       "Other Benefits               0\n",
       "Total Benefits               0\n",
       "Total Compensation           0\n",
       "dtype: int64"
      ]
     },
     "execution_count": 8,
     "metadata": {},
     "output_type": "execute_result"
    }
   ],
   "source": [
    "# check null values\n",
    "df.isna().sum()"
   ]
  },
  {
   "cell_type": "code",
   "execution_count": 9,
   "metadata": {
    "colab": {
     "base_uri": "https://localhost:8080/"
    },
    "id": "mxfkZUNy8BAQ",
    "outputId": "0ffab66f-75dc-47a2-fb05-cd88f5bb728e"
   },
   "outputs": [
    {
     "data": {
      "text/plain": [
       "Organization Group Code      int64\n",
       "Job Family Code             object\n",
       "Job Code                    object\n",
       "Year Type                   object\n",
       "Year                         int64\n",
       "Organization Group          object\n",
       "Department Code             object\n",
       "Department                  object\n",
       "Union Code                 float64\n",
       "Union                       object\n",
       "Job Family                  object\n",
       "Job                         object\n",
       "Employee Identifier          int64\n",
       "Salaries                   float64\n",
       "Overtime                   float64\n",
       "Other Salaries             float64\n",
       "Total Salary               float64\n",
       "Retirement                 float64\n",
       "Health and Dental          float64\n",
       "Other Benefits             float64\n",
       "Total Benefits             float64\n",
       "Total Compensation         float64\n",
       "dtype: object"
      ]
     },
     "execution_count": 9,
     "metadata": {},
     "output_type": "execute_result"
    }
   ],
   "source": [
    "# Check each data types \n",
    "df.dtypes"
   ]
  },
  {
   "cell_type": "code",
   "execution_count": 10,
   "metadata": {
    "colab": {
     "base_uri": "https://localhost:8080/"
    },
    "id": "DJheS_nR8A4O",
    "outputId": "5ebfeb3a-38be-4885-84be-2a571b7da438"
   },
   "outputs": [
    {
     "name": "stdout",
     "output_type": "stream",
     "text": [
      "Organization Group Code has : 7 Unique Values\n",
      "Job Family Code has : 59 Unique Values\n",
      "Job Code has : 1210 Unique Values\n",
      "Year Type has : 2 Unique Values\n",
      "Year has : 8 Unique Values\n",
      "Organization Group has : 7 Unique Values\n",
      "Department Code has : 60 Unique Values\n",
      "Department has : 109 Unique Values\n",
      "Union Code has : 70 Unique Values\n",
      "Union has : 129 Unique Values\n",
      "Job Family has : 59 Unique Values\n",
      "Job has : 1349 Unique Values\n",
      "Employee Identifier has : 309750 Unique Values\n",
      "Salaries has : 498512 Unique Values\n",
      "Overtime has : 262033 Unique Values\n",
      "Other Salaries has : 307854 Unique Values\n",
      "Total Salary has : 615223 Unique Values\n",
      "Retirement has : 451716 Unique Values\n",
      "Health and Dental has : 209969 Unique Values\n",
      "Other Benefits has : 496200 Unique Values\n",
      "Total Benefits has : 616499 Unique Values\n",
      "Total Compensation has : 658692 Unique Values\n"
     ]
    }
   ],
   "source": [
    "# no of unique values per columns/attributes\n",
    "col_name = df.columns\n",
    "for i in col_name:\n",
    "  print(i, 'has :',df[i].nunique(),\"Unique Values\")"
   ]
  },
  {
   "cell_type": "code",
   "execution_count": 11,
   "metadata": {
    "colab": {
     "base_uri": "https://localhost:8080/"
    },
    "id": "ARTESuaT3Jqq",
    "outputId": "00f2dabe-554e-4bfb-a7ff-881f2a9c1399"
   },
   "outputs": [
    {
     "data": {
      "text/plain": [
       "array([ 57534.65,  57678.5 ,  63532.93, ...,  97051.  , 115943.  ,\n",
       "       116447.9 ])"
      ]
     },
     "execution_count": 11,
     "metadata": {},
     "output_type": "execute_result"
    }
   ],
   "source": [
    "## print Total Salary unique\n",
    "df['Total Salary'].unique()"
   ]
  },
  {
   "cell_type": "code",
   "execution_count": 12,
   "metadata": {
    "colab": {
     "base_uri": "https://localhost:8080/"
    },
    "id": "5AEfoKpm3JoT",
    "outputId": "d70ce7c7-17f1-4cb8-e69b-56b37ef6b48c"
   },
   "outputs": [
    {
     "data": {
      "text/plain": [
       "array([11253.16, 10284.88, 12495.83, ...,  1904.43, 20241.56, 24188.37])"
      ]
     },
     "execution_count": 12,
     "metadata": {},
     "output_type": "execute_result"
    }
   ],
   "source": [
    "## print Retirement unique\n",
    "df.Retirement.unique()"
   ]
  },
  {
   "cell_type": "code",
   "execution_count": 13,
   "metadata": {
    "colab": {
     "base_uri": "https://localhost:8080/"
    },
    "id": "xoa9ICD_3JmG",
    "outputId": "cf15b770-8d4f-4fff-898f-0a1ee9257526"
   },
   "outputs": [
    {
     "data": {
      "text/plain": [
       "array([11961.34,  7176.8 , 12918.24, ..., 12017.08,  1233.8 , 15451.43])"
      ]
     },
     "execution_count": 13,
     "metadata": {},
     "output_type": "execute_result"
    }
   ],
   "source": [
    "## print Health and Dental unique\n",
    "df['Health and Dental'].unique()"
   ]
  },
  {
   "cell_type": "code",
   "execution_count": 14,
   "metadata": {
    "colab": {
     "base_uri": "https://localhost:8080/",
     "height": 382
    },
    "id": "VRy2u9VL3JjI",
    "outputId": "5a0966a1-b193-40ff-93b1-13562673af4c"
   },
   "outputs": [
    {
     "data": {
      "text/html": [
       "<div>\n",
       "<style scoped>\n",
       "    .dataframe tbody tr th:only-of-type {\n",
       "        vertical-align: middle;\n",
       "    }\n",
       "\n",
       "    .dataframe tbody tr th {\n",
       "        vertical-align: top;\n",
       "    }\n",
       "\n",
       "    .dataframe thead th {\n",
       "        text-align: right;\n",
       "    }\n",
       "</style>\n",
       "<table border=\"1\" class=\"dataframe\">\n",
       "  <thead>\n",
       "    <tr style=\"text-align: right;\">\n",
       "      <th></th>\n",
       "      <th>Organization Group Code</th>\n",
       "      <th>Year</th>\n",
       "      <th>Union Code</th>\n",
       "      <th>Employee Identifier</th>\n",
       "      <th>Salaries</th>\n",
       "      <th>Overtime</th>\n",
       "      <th>Other Salaries</th>\n",
       "      <th>Total Salary</th>\n",
       "      <th>Retirement</th>\n",
       "      <th>Health and Dental</th>\n",
       "      <th>Other Benefits</th>\n",
       "      <th>Total Benefits</th>\n",
       "      <th>Total Compensation</th>\n",
       "    </tr>\n",
       "  </thead>\n",
       "  <tbody>\n",
       "    <tr>\n",
       "      <th>count</th>\n",
       "      <td>683277.000000</td>\n",
       "      <td>683277.000000</td>\n",
       "      <td>682926.000000</td>\n",
       "      <td>6.832770e+05</td>\n",
       "      <td>683277.000000</td>\n",
       "      <td>683277.000000</td>\n",
       "      <td>683277.000000</td>\n",
       "      <td>683277.000000</td>\n",
       "      <td>683277.000000</td>\n",
       "      <td>683277.000000</td>\n",
       "      <td>683277.000000</td>\n",
       "      <td>683277.000000</td>\n",
       "      <td>683277.000000</td>\n",
       "    </tr>\n",
       "    <tr>\n",
       "      <th>mean</th>\n",
       "      <td>2.977943</td>\n",
       "      <td>2016.364632</td>\n",
       "      <td>492.532173</td>\n",
       "      <td>1.708711e+07</td>\n",
       "      <td>69466.271313</td>\n",
       "      <td>5474.598046</td>\n",
       "      <td>3820.481201</td>\n",
       "      <td>78571.040544</td>\n",
       "      <td>13658.900273</td>\n",
       "      <td>9946.864621</td>\n",
       "      <td>5038.753940</td>\n",
       "      <td>28644.518833</td>\n",
       "      <td>107215.559377</td>\n",
       "    </tr>\n",
       "    <tr>\n",
       "      <th>std</th>\n",
       "      <td>1.579574</td>\n",
       "      <td>2.092180</td>\n",
       "      <td>330.911187</td>\n",
       "      <td>1.925902e+07</td>\n",
       "      <td>47771.799981</td>\n",
       "      <td>13110.029734</td>\n",
       "      <td>8386.602694</td>\n",
       "      <td>55751.218659</td>\n",
       "      <td>10110.075388</td>\n",
       "      <td>5732.982236</td>\n",
       "      <td>3787.981426</td>\n",
       "      <td>17869.713199</td>\n",
       "      <td>72291.710218</td>\n",
       "    </tr>\n",
       "    <tr>\n",
       "      <th>min</th>\n",
       "      <td>1.000000</td>\n",
       "      <td>2013.000000</td>\n",
       "      <td>1.000000</td>\n",
       "      <td>0.000000e+00</td>\n",
       "      <td>-68771.780000</td>\n",
       "      <td>-12308.660000</td>\n",
       "      <td>-19131.100000</td>\n",
       "      <td>-68771.780000</td>\n",
       "      <td>-30621.430000</td>\n",
       "      <td>-3831.090000</td>\n",
       "      <td>-10636.500000</td>\n",
       "      <td>-21295.150000</td>\n",
       "      <td>-74082.610000</td>\n",
       "    </tr>\n",
       "    <tr>\n",
       "      <th>25%</th>\n",
       "      <td>2.000000</td>\n",
       "      <td>2015.000000</td>\n",
       "      <td>250.000000</td>\n",
       "      <td>2.545000e+04</td>\n",
       "      <td>29009.540000</td>\n",
       "      <td>0.000000</td>\n",
       "      <td>0.000000</td>\n",
       "      <td>31676.040000</td>\n",
       "      <td>4662.960000</td>\n",
       "      <td>4780.680000</td>\n",
       "      <td>1870.410000</td>\n",
       "      <td>11716.230000</td>\n",
       "      <td>44439.440000</td>\n",
       "    </tr>\n",
       "    <tr>\n",
       "      <th>50%</th>\n",
       "      <td>2.000000</td>\n",
       "      <td>2017.000000</td>\n",
       "      <td>535.000000</td>\n",
       "      <td>5.097500e+04</td>\n",
       "      <td>67899.360000</td>\n",
       "      <td>0.000000</td>\n",
       "      <td>706.240000</td>\n",
       "      <td>74870.420000</td>\n",
       "      <td>13858.160000</td>\n",
       "      <td>12500.590000</td>\n",
       "      <td>4876.550000</td>\n",
       "      <td>32521.370000</td>\n",
       "      <td>107529.240000</td>\n",
       "    </tr>\n",
       "    <tr>\n",
       "      <th>75%</th>\n",
       "      <td>4.000000</td>\n",
       "      <td>2018.000000</td>\n",
       "      <td>790.000000</td>\n",
       "      <td>3.737703e+07</td>\n",
       "      <td>100416.890000</td>\n",
       "      <td>4223.390000</td>\n",
       "      <td>4362.880000</td>\n",
       "      <td>112666.100000</td>\n",
       "      <td>20151.850000</td>\n",
       "      <td>14037.160000</td>\n",
       "      <td>7525.560000</td>\n",
       "      <td>40915.930000</td>\n",
       "      <td>154170.540000</td>\n",
       "    </tr>\n",
       "    <tr>\n",
       "      <th>max</th>\n",
       "      <td>7.000000</td>\n",
       "      <td>2020.000000</td>\n",
       "      <td>990.000000</td>\n",
       "      <td>4.434643e+07</td>\n",
       "      <td>651936.710000</td>\n",
       "      <td>321523.310000</td>\n",
       "      <td>568163.120000</td>\n",
       "      <td>658867.570000</td>\n",
       "      <td>121952.520000</td>\n",
       "      <td>59405.230000</td>\n",
       "      <td>36815.390000</td>\n",
       "      <td>151645.180000</td>\n",
       "      <td>807625.250000</td>\n",
       "    </tr>\n",
       "  </tbody>\n",
       "</table>\n",
       "</div>"
      ],
      "text/plain": [
       "       Organization Group Code           Year     Union Code  \\\n",
       "count            683277.000000  683277.000000  682926.000000   \n",
       "mean                  2.977943    2016.364632     492.532173   \n",
       "std                   1.579574       2.092180     330.911187   \n",
       "min                   1.000000    2013.000000       1.000000   \n",
       "25%                   2.000000    2015.000000     250.000000   \n",
       "50%                   2.000000    2017.000000     535.000000   \n",
       "75%                   4.000000    2018.000000     790.000000   \n",
       "max                   7.000000    2020.000000     990.000000   \n",
       "\n",
       "       Employee Identifier       Salaries       Overtime  Other Salaries  \\\n",
       "count         6.832770e+05  683277.000000  683277.000000   683277.000000   \n",
       "mean          1.708711e+07   69466.271313    5474.598046     3820.481201   \n",
       "std           1.925902e+07   47771.799981   13110.029734     8386.602694   \n",
       "min           0.000000e+00  -68771.780000  -12308.660000   -19131.100000   \n",
       "25%           2.545000e+04   29009.540000       0.000000        0.000000   \n",
       "50%           5.097500e+04   67899.360000       0.000000      706.240000   \n",
       "75%           3.737703e+07  100416.890000    4223.390000     4362.880000   \n",
       "max           4.434643e+07  651936.710000  321523.310000   568163.120000   \n",
       "\n",
       "        Total Salary     Retirement  Health and Dental  Other Benefits  \\\n",
       "count  683277.000000  683277.000000      683277.000000   683277.000000   \n",
       "mean    78571.040544   13658.900273        9946.864621     5038.753940   \n",
       "std     55751.218659   10110.075388        5732.982236     3787.981426   \n",
       "min    -68771.780000  -30621.430000       -3831.090000   -10636.500000   \n",
       "25%     31676.040000    4662.960000        4780.680000     1870.410000   \n",
       "50%     74870.420000   13858.160000       12500.590000     4876.550000   \n",
       "75%    112666.100000   20151.850000       14037.160000     7525.560000   \n",
       "max    658867.570000  121952.520000       59405.230000    36815.390000   \n",
       "\n",
       "       Total Benefits  Total Compensation  \n",
       "count   683277.000000       683277.000000  \n",
       "mean     28644.518833       107215.559377  \n",
       "std      17869.713199        72291.710218  \n",
       "min     -21295.150000       -74082.610000  \n",
       "25%      11716.230000        44439.440000  \n",
       "50%      32521.370000       107529.240000  \n",
       "75%      40915.930000       154170.540000  \n",
       "max     151645.180000       807625.250000  "
      ]
     },
     "execution_count": 14,
     "metadata": {},
     "output_type": "execute_result"
    }
   ],
   "source": [
    "# Summary of the data\n",
    "df.describe()"
   ]
  },
  {
   "cell_type": "code",
   "execution_count": 15,
   "metadata": {
    "colab": {
     "base_uri": "https://localhost:8080/",
     "height": 345
    },
    "id": "_jmfF9NL3t-2",
    "outputId": "c38c2a3e-9170-4477-8387-4a1eca7f8b9a"
   },
   "outputs": [
    {
     "name": "stderr",
     "output_type": "stream",
     "text": [
      "/Users/jasonkim/opt/anaconda3/lib/python3.9/site-packages/seaborn/distributions.py:2619: FutureWarning: `distplot` is a deprecated function and will be removed in a future version. Please adapt your code to use either `displot` (a figure-level function with similar flexibility) or `histplot` (an axes-level function for histograms).\n",
      "  warnings.warn(msg, FutureWarning)\n"
     ]
    },
    {
     "data": {
      "image/png": "[encoded data removed]",
      "text/plain": [
       "<Figure size 432x288 with 1 Axes>"
      ]
     },
     "metadata": {
      "needs_background": "light"
     },
     "output_type": "display_data"
    }
   ],
   "source": [
    "# Distribution plot on mpg\n",
    "sns.distplot(df['Total Salary'])\n",
    "plt.show()"
   ]
  },
  {
   "cell_type": "code",
   "execution_count": 16,
   "metadata": {
    "colab": {
     "base_uri": "https://localhost:8080/"
    },
    "id": "wlvUKrDz3t7_",
    "outputId": "94f12eb8-f676-4a27-c45a-7ba0d71e728c"
   },
   "outputs": [
    {
     "name": "stdout",
     "output_type": "stream",
     "text": [
      "Skewness: 0.644536\n",
      "Kurtosis: 0.482735\n"
     ]
    }
   ],
   "source": [
    "print('Skewness: %f' % df['Total Salary'].skew())\n",
    "print('Kurtosis: %f' % df['Total Salary'].kurt())"
   ]
  },
  {
   "cell_type": "code",
   "execution_count": 17,
   "metadata": {
    "id": "7p3e7mtJ-G32"
   },
   "outputs": [],
   "source": [
    "from sklearn.cluster import KMeans"
   ]
  },
  {
   "cell_type": "code",
   "execution_count": 18,
   "metadata": {
    "id": "5LQrfxOJ34zr"
   },
   "outputs": [],
   "source": [
    "kmeans = KMeans(n_clusters=3)"
   ]
  },
  {
   "cell_type": "code",
   "execution_count": 19,
   "metadata": {
    "colab": {
     "base_uri": "https://localhost:8080/"
    },
    "id": "6Its1Zpc34xf",
    "outputId": "5142f3db-acb2-4c2e-cba1-93c5b857ea44"
   },
   "outputs": [
    {
     "data": {
      "text/plain": [
       "Index(['Organization Group Code', 'Job Family Code', 'Job Code', 'Year Type',\n",
       "       'Year', 'Organization Group', 'Department Code', 'Department',\n",
       "       'Union Code', 'Union', 'Job Family', 'Job', 'Employee Identifier',\n",
       "       'Salaries', 'Overtime', 'Other Salaries', 'Total Salary', 'Retirement',\n",
       "       'Health and Dental', 'Other Benefits', 'Total Benefits',\n",
       "       'Total Compensation'],\n",
       "      dtype='object')"
      ]
     },
     "execution_count": 19,
     "metadata": {},
     "output_type": "execute_result"
    }
   ],
   "source": [
    "df.columns"
   ]
  },
  {
   "cell_type": "code",
   "execution_count": 20,
   "metadata": {
    "colab": {
     "base_uri": "https://localhost:8080/"
    },
    "id": "Fs27mkG934vH",
    "outputId": "4b8508bd-6bd0-4bcc-ed13-e803a2c3d807"
   },
   "outputs": [
    {
     "data": {
      "text/plain": [
       "KMeans(n_clusters=3)"
      ]
     },
     "execution_count": 20,
     "metadata": {},
     "output_type": "execute_result"
    }
   ],
   "source": [
    "kmeans.fit(df.drop(['Organization Group Code','Job Family Code','Job Code','Year Type','Year','Organization Group','Department Code','Department','Union Code', 'Union', 'Job Family', 'Job', 'Employee Identifier',\n",
    "       'Salaries', 'Overtime', 'Other Salaries', 'Other Benefits', 'Total Benefits', 'Total Compensation'], axis=1))"
   ]
  },
  {
   "cell_type": "code",
   "execution_count": 21,
   "metadata": {
    "colab": {
     "base_uri": "https://localhost:8080/"
    },
    "id": "mFGPDRP534qD",
    "outputId": "07811736-dca6-4404-8e5a-50e5256a038d"
   },
   "outputs": [
    {
     "name": "stdout",
     "output_type": "stream",
     "text": [
      "[[ 17607.95786112   2474.22633371   3063.67115139]\n",
      " [160691.09610251  26899.2703962   14361.85330259]\n",
      " [ 83190.58281109  15323.21546799  12641.13919397]]\n"
     ]
    }
   ],
   "source": [
    "print(kmeans.cluster_centers_)"
   ]
  },
  {
   "cell_type": "code",
   "execution_count": 22,
   "metadata": {
    "colab": {
     "base_uri": "https://localhost:8080/"
    },
    "id": "K00I12vR34nc",
    "outputId": "adf97935-8a16-487f-cec1-6a4abfe08576"
   },
   "outputs": [
    {
     "name": "stdout",
     "output_type": "stream",
     "text": [
      "[2 2 2 ... 2 2 2]\n"
     ]
    }
   ],
   "source": [
    "y = kmeans.labels_\n",
    "print(y)"
   ]
  },
  {
   "cell_type": "code",
   "execution_count": 23,
   "metadata": {
    "colab": {
     "base_uri": "https://localhost:8080/",
     "height": 265
    },
    "id": "p4hhMwnj4i6J",
    "outputId": "a4762ffa-a5ac-4e3d-faa2-ac46e37a5c1c"
   },
   "outputs": [
    {
     "data": {
      "image/png": "[encoded data removed]",
      "text/plain": [
       "<Figure size 432x288 with 1 Axes>"
      ]
     },
     "metadata": {
      "needs_background": "light"
     },
     "output_type": "display_data"
    }
   ],
   "source": [
    "sns.countplot(x=kmeans.labels_, palette='Oranges')\n",
    "plt.show()"
   ]
  },
  {
   "cell_type": "code",
   "execution_count": 24,
   "metadata": {
    "colab": {
     "base_uri": "https://localhost:8080/",
     "height": 265
    },
    "id": "l6Z7_PHK4i3q",
    "outputId": "bf38a1c6-8209-4aaf-9a7d-7ac4d69c7482"
   },
   "outputs": [
    {
     "data": {
      "image/png": "[encoded data removed]",
      "text/plain": [
       "<Figure size 432x288 with 1 Axes>"
      ]
     },
     "metadata": {
      "needs_background": "light"
     },
     "output_type": "display_data"
    }
   ],
   "source": [
    "plt.scatter(df.iloc[:,15].values,df.iloc[:,18].values, c=kmeans.labels_, cmap=\"rainbow\")\n",
    "plt.show()"
   ]
  },
  {
   "cell_type": "code",
   "execution_count": 25,
   "metadata": {
    "colab": {
     "base_uri": "https://localhost:8080/",
     "height": 282
    },
    "id": "oDTZD51m4i1U",
    "outputId": "079de346-22bc-424a-98d0-495272a0160f"
   },
   "outputs": [
    {
     "data": {
      "text/plain": [
       "<matplotlib.collections.PathCollection at 0x7f9261b59130>"
      ]
     },
     "execution_count": 25,
     "metadata": {},
     "output_type": "execute_result"
    },
    {
     "data": {
      "image/png": "[encoded data removed]",
      "text/plain": [
       "<Figure size 432x288 with 1 Axes>"
      ]
     },
     "metadata": {
      "needs_background": "light"
     },
     "output_type": "display_data"
    }
   ],
   "source": [
    "centers = np.array(kmeans.cluster_centers_)\n",
    "plt.scatter(centers[:,0], centers[:,1], marker=\"x\", color='k')"
   ]
  },
  {
   "cell_type": "code",
   "execution_count": 26,
   "metadata": {
    "colab": {
     "base_uri": "https://localhost:8080/",
     "height": 265
    },
    "id": "m1FxGjpi4iyt",
    "outputId": "a1eaf9e9-6121-4a88-ecdc-dd1c5c9e3949"
   },
   "outputs": [
    {
     "data": {
      "image/png": "[encoded data removed]",
      "text/plain": [
       "<Figure size 432x288 with 1 Axes>"
      ]
     },
     "metadata": {
      "needs_background": "light"
     },
     "output_type": "display_data"
    }
   ],
   "source": [
    "plt.scatter(df.iloc[:,15].values,df.iloc[:,18].values, c=kmeans.labels_, cmap=\"rainbow\")\n",
    "centers = np.array(kmeans.cluster_centers_)\n",
    "plt.scatter(centers[:,0], centers[:,1], marker = \"x\", color = 'k')\n",
    "plt.show()"
   ]
  },
  {
   "cell_type": "code",
   "execution_count": 27,
   "metadata": {
    "id": "fFX9ksdr5nlF"
   },
   "outputs": [],
   "source": [
    "from scipy.spatial.distance import cdist, pdist\n",
    "from sklearn.cluster import KMeans"
   ]
  },
  {
   "cell_type": "code",
   "execution_count": 28,
   "metadata": {
    "id": "y6h9IFZs5ng5"
   },
   "outputs": [],
   "source": [
    "K = range(1,10)\n",
    "X = df.drop(['Organization Group Code','Job Family Code','Job Code','Year Type','Year','Organization Group','Department Code','Department','Union Code', 'Union', 'Job Family', 'Job', 'Employee Identifier',\n",
    "       'Salaries', 'Overtime', 'Other Salaries', 'Other Benefits', 'Total Benefits',\\\n",
    "       'Total Compensation'], axis=1)\n",
    "KM = [KMeans(n_clusters=k).fit(X) for k in K]\n",
    "centroids = [k.cluster_centers_ for k in KM]\n",
    "D_k = [cdist(X, cent, 'euclidean') for cent in centroids]\n",
    "cIdx = [np.argmin(D,axis=1) for D in D_k]\n",
    "dist = [np.min(D,axis=1) for D in D_k]\n",
    "avgWithinSS = [sum(d)/X.shape[0] for d in dist]"
   ]
  },
  {
   "cell_type": "code",
   "execution_count": 29,
   "metadata": {
    "id": "MBctGP7p5neb"
   },
   "outputs": [],
   "source": [
    "## Total with-in sum of square\n",
    "wcss = [sum(d**2) for d in dist]"
   ]
  },
  {
   "cell_type": "code",
   "execution_count": 30,
   "metadata": {
    "colab": {
     "base_uri": "https://localhost:8080/"
    },
    "id": "5U5FTYoa7KSC",
    "outputId": "75e232a3-f335-4f0b-85e6-ff285686ae31"
   },
   "outputs": [
    {
     "data": {
      "text/plain": [
       "3"
      ]
     },
     "execution_count": 30,
     "metadata": {},
     "output_type": "execute_result"
    }
   ],
   "source": [
    "X.shape[1]"
   ]
  },
  {
   "cell_type": "code",
   "execution_count": 31,
   "metadata": {
    "id": "QHNWrCzc75Wi"
   },
   "outputs": [],
   "source": [
    "#pdist(X)"
   ]
  },
  {
   "cell_type": "code",
   "execution_count": 32,
   "metadata": {
    "id": "omyNK7Rt6KZd"
   },
   "outputs": [],
   "source": [
    "#tss = sum(pdist(X)**2)/X.shape[0]"
   ]
  },
  {
   "cell_type": "code",
   "execution_count": 33,
   "metadata": {
    "id": "UdJFN6e66KWz"
   },
   "outputs": [],
   "source": [
    "#bss = tss-wcss"
   ]
  },
  {
   "cell_type": "code",
   "execution_count": 34,
   "metadata": {
    "id": "ZMJT3_2d6KT3"
   },
   "outputs": [],
   "source": [
    "#varExplained = bss/tss*100"
   ]
  },
  {
   "cell_type": "code",
   "execution_count": 35,
   "metadata": {
    "id": "oKD5lN645nZW"
   },
   "outputs": [],
   "source": [
    "kIdx = 10-1"
   ]
  },
  {
   "cell_type": "code",
   "execution_count": 36,
   "metadata": {
    "colab": {
     "base_uri": "https://localhost:8080/",
     "height": 312
    },
    "id": "wSe4hh8s5nWf",
    "outputId": "81143a8b-4586-4b6a-a37f-ccbb8f7c031b"
   },
   "outputs": [
    {
     "data": {
      "text/plain": [
       "Text(0.5, 1.0, 'Elbow for KMeans cluestering')"
      ]
     },
     "execution_count": 36,
     "metadata": {},
     "output_type": "execute_result"
    },
    {
     "data": {
      "image/png": "[encoded data removed]",
      "text/plain": [
       "<Figure size 720x288 with 1 Axes>"
      ]
     },
     "metadata": {
      "needs_background": "light"
     },
     "output_type": "display_data"
    }
   ],
   "source": [
    "## PLOT\n",
    "kIdx=2\n",
    "## Elbow curve\n",
    "## set the size of the plot\n",
    "plt.figure(figsize=(10,4))\n",
    "plt.subplot(1,2,1)\n",
    "plt.plot(K, avgWithinSS, 'b*-')\n",
    "plt.plot(K[kIdx], avgWithinSS[kIdx], marker = 'o', markersize = 12, markeredgewidth=2, markeredgecolor='r',markerfacecolor='None')\n",
    "plt.grid(True)\n",
    "plt.xlabel('Number of clusters')\n",
    "plt.ylabel('Average within-cluster sum of squares')\n",
    "plt.title('Elbow for KMeans cluestering')\n",
    "# plt.subplot(1,2,2)\n",
    "# # plt.plot(K, varExplained, 'b*-')\n",
    "# # plt.plot(K[kIdx], varExplained[kIdx], marker='o', markersize=12, markeredgewidth=2, markeredgecolor='r', markerfacecolor='None')\n",
    "# plt.grid(True)\n",
    "# plt.xlabel('Number of clusters')\n",
    "# plt.ylabel('Percentage of variance explained')\n",
    "# plt.title('Elbow of KMeans clustering')\n",
    "# plt.tight_layout()"
   ]
  },
  {
   "cell_type": "code",
   "execution_count": 37,
   "metadata": {
    "id": "6bqBZndb7mI8"
   },
   "outputs": [],
   "source": [
    "from sklearn.metrics import silhouette_samples, silhouette_score"
   ]
  },
  {
   "cell_type": "code",
   "execution_count": null,
   "metadata": {
    "id": "Q60jtRDZ7mGN"
   },
   "outputs": [],
   "source": [
    "silhouette_score(X,y)"
   ]
  },
  {
   "cell_type": "code",
   "execution_count": null,
   "metadata": {
    "id": "cToZmY0h7mDo"
   },
   "outputs": [],
   "source": [
    "from sklearn.metrics import silhouette_score\n",
    "from matplotlib import cm"
   ]
  },
  {
   "cell_type": "code",
   "execution_count": null,
   "metadata": {
    "id": "vNGz9Fkg7mAF"
   },
   "outputs": [],
   "source": [
    "score = []\n",
    "for n_clusters in range(2,10):\n",
    "  kmeans = KMeans(n_clusters=n_clusters)\n",
    "  kmeans.fit(X)\n",
    "  labels = kmeans.labels_\n",
    "  centroids = kmeans.cluster_centers_\n",
    "  score.append(silhouette_score(X, labels, metric = 'euclidean'))"
   ]
  },
  {
   "cell_type": "code",
   "execution_count": null,
   "metadata": {
    "id": "QqulWuEn7l9I"
   },
   "outputs": [],
   "source": [
    "# Set the size of the plot\n",
    "plt.figure(figsize=(10,4))\n",
    "plt.subplot(1,2,1)\n",
    "plt.plot(score)\n",
    "plt.grid(True)\n",
    "plt.ylabel(\"Silouette Score\")\n",
    "plt.xlabel(\"k\")\n",
    "plt.title(\"Silouette for K-means\")"
   ]
  }
 ],
 "metadata": {
  "colab": {
   "machine_shape": "hm",
   "name": "KMEANSPROJECT_PART2",
   "provenance": []
  },
  "kernelspec": {
   "display_name": "Python 3 (ipykernel)",
   "language": "python",
   "name": "python3"
  },
  "language_info": {
   "codemirror_mode": {
    "name": "ipython",
    "version": 3
   },
   "file_extension": ".py",
   "mimetype": "text/x-python",
   "name": "python",
   "nbconvert_exporter": "python",
   "pygments_lexer": "ipython3",
   "version": "3.9.7"
  }
 },
 "nbformat": 4,
 "nbformat_minor": 1
}
